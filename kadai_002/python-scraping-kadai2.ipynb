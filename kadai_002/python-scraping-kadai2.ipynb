{
 "cells": [
  {
   "cell_type": "code",
   "execution_count": 14,
   "metadata": {},
   "outputs": [
    {
     "name": "stdout",
     "output_type": "stream",
     "text": [
      "イザーレシュウチエロ: 3.8: 墨田区墨田区押上１丁目１−２\n",
      "Sky Restaurant 634: 4.1: 墨田区押上１丁目１−２ 345 東京スカイツリー天望デッキフロア\n",
      "お肉の専門店スギモト本店 東京スカイツリータウン・ソラマチ店: 3.6: 墨田区押上１丁目１−２\n",
      "チーズガーデン 東京ソラマチ店: 4: 墨田区押上１丁目１−２ 東京スカイツリータウン・東京ソラマチ 2階\n",
      "長屋 茶房 天眞庵: 4.2: 墨田区文花１丁目６−５\n",
      "酒処 押上文庫: 4.6: 墨田区押上３丁目１０−９\n",
      "とんかつ新宿さぼてん 東京スカイツリータウン・ソラマチ店: 4.1: 墨田区押上１丁目１−２ 東京スカイツリータウン・ソラマチ 6F\n",
      "焼鳥 おみ乃: 4.4: 墨田区押上１丁目３８−４ 清流ビル 1F\n",
      "いこい食堂: 3.8: 墨田区業平４丁目１５−１１\n",
      "天空LOUNGE TOP of TREE: 4.1: 墨田区押上１丁目１−２ 東京スカイツリータウン ソラマチ31F\n",
      "ときわ食堂: 4.3: 墨田区文花１丁目１−５\n",
      "見上げるビアガーデン: 3.7: 墨田区押上１丁目１−２ 4F 東京スカイツリータウン\n",
      "KAILASH ASIAN DINING＆BAR とうきょうスカイツリー駅前店: 4: 墨田区業平１丁目２１−４ 第２刀川ビル\n",
      "日高屋 押上四ツ目通店: 3.5: 墨田区業平４丁目１７−４\n",
      "國見: 4.2: 墨田区押上１丁目１−２ スカイツリータウン・ 東京ソラマチ31F ソラマチダイニング スカイツリービュー内\n",
      "もつ焼き 酒場野田: 4.5: 墨田区押上１丁目１７−１ あづまハイツ １F\n",
      "築地銀だこ: 3.4: 東京ｽｶｲﾂﾘｰﾀｳﾝ･ｿﾗﾏﾁ 3F W0310東京ソラマチ店, １丁目-１−2 押上, 墨田区\n",
      "半田酒店: 4.3: 墨田区押上２丁目１２−７\n",
      "モスバーガー押上店: 4: 墨田区押上１丁目２３−１ 土居ビル １階\n",
      "ししまる食堂: 4.2: 墨田区押上１丁目１６−７\n"
     ]
    }
   ],
   "source": [
    "import requests\n",
    "import pprint\n",
    "from getpass import getpass\n",
    "\n",
    "# APIキーを指定\n",
    "api_key = getpass('APIキーを入力してください: ')\n",
    "\n",
    "# 検索キーワードを変数search_wordに格納\n",
    "search_address = input('検索する駅を入力してください: ')\n",
    "\n",
    "# 緯度経度を取得するAPI\n",
    "url_station = 'https://maps.googleapis.com/maps/api/geocode/json'\n",
    "\n",
    "# 駅の緯度経度を取得\n",
    "response_station = requests.get(\n",
    "    url_station, \n",
    "    params={\n",
    "        'key': api_key,  # APIキーをパラメータに追加\n",
    "        'address': search_address,  # 駅名\n",
    "    }\n",
    ")\n",
    "\n",
    "# レスポンスのJSONを取得\n",
    "station_data = response_station.json()\n",
    "latitude = station_data['results'][0]['geometry']['location']['lat']\n",
    "longitude = station_data['results'][0]['geometry']['location']['lng']\n",
    "\n",
    "\n",
    "# レストラン情報を取得するためのAPI\n",
    "url_restaurant = 'https://maps.googleapis.com/maps/api/place/nearbysearch/json'\n",
    "\n",
    "# 駅の緯度経度を取得\n",
    "response_restaurant = requests.get(\n",
    "    url_restaurant, \n",
    "    params={\n",
    "        'location': f'{latitude},{longitude}',  # 緯度, 経度\n",
    "        'language': 'ja',  # 言語\n",
    "        'radius': 500,  # 半径\n",
    "        'type': 'restaurant',  # ビジネス種別\n",
    "        'key': api_key,  # APIキー\n",
    "    }\n",
    ")\n",
    "\n",
    "# レスポンスのJSONを取得\n",
    "json_data = response_restaurant.json()\n",
    "\n",
    "# JSONの中身を確認\n",
    "# pprint.pprint(json_data)\n",
    "\n",
    "for item in json_data['results']:\n",
    "    shop_name = item['name']\n",
    "    shop_rate = item['rating']\n",
    "    shop_address = item['vicinity']\n",
    "    print(f'{shop_name}: {shop_rate}: {shop_address}')"
   ]
  }
 ],
 "metadata": {
  "kernelspec": {
   "display_name": "Python 3",
   "language": "python",
   "name": "python3"
  },
  "language_info": {
   "codemirror_mode": {
    "name": "ipython",
    "version": 3
   },
   "file_extension": ".py",
   "mimetype": "text/x-python",
   "name": "python",
   "nbconvert_exporter": "python",
   "pygments_lexer": "ipython3",
   "version": "3.13.1"
  }
 },
 "nbformat": 4,
 "nbformat_minor": 2
}
