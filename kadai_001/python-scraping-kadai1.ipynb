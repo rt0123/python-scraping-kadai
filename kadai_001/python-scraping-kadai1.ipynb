{
 "cells": [
  {
   "cell_type": "code",
   "execution_count": null,
   "metadata": {},
   "outputs": [],
   "source": [
    "import requests\n",
    "from bs4 import BeautifulSoup\n",
    "\n",
    "# ウェブページのHTMLを取得\n",
    "url = \"https://news.yahoo.co.jp/articles/565ee76c0c4dda9e24d4c36f3122d31f0e8311df\"\n",
    "response = requests.get(url)\n",
    "\n",
    "# BeautifulSoupで解析\n",
    "soup = BeautifulSoup(response.content, 'html.parser')\n",
    "\n",
    "sentences = soup.select('#uamods > .article_body > div > p')\n",
    "# 各<p>タグのテキストを結合して1つの文字列にする\n",
    "article_text = ''.join([sentence.text for sentence in sentences])\n",
    "\n",
    "print(article_text)\n"
   ]
  }
 ],
 "metadata": {
  "kernelspec": {
   "display_name": "Python 3",
   "language": "python",
   "name": "python3"
  },
  "language_info": {
   "codemirror_mode": {
    "name": "ipython",
    "version": 3
   },
   "file_extension": ".py",
   "mimetype": "text/x-python",
   "name": "python",
   "nbconvert_exporter": "python",
   "pygments_lexer": "ipython3",
   "version": "3.13.1"
  }
 },
 "nbformat": 4,
 "nbformat_minor": 2
}
