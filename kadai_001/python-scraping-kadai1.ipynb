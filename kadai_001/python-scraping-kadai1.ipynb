{
 "cells": [
  {
   "cell_type": "code",
   "execution_count": 8,
   "metadata": {},
   "outputs": [
    {
     "name": "stdout",
     "output_type": "stream",
     "text": [
      "　自動車産業の労働組合でつくる自動車総連（組合員約78万人）が、2025年春闘で年間休日数の5日増を求める方針を掲げた。\n",
      "\n",
      "【ひと目でわかる】春闘の平均賃上げ率の推移\n",
      "\n",
      "　自動車関連メーカーでは休日を年間121日程度とする企業が多く、125日前後ある他産業や公務員よりも休みが少ない。総連は「産業の魅力が劣後してしまう」（金子晃浩会長）との危機感から、賃金以外の分野でも労働条件改善の訴えを強める構えだ。\n",
      "\n",
      "　自動車大手では、生産効率を上げるために多くの祝日を基本的に出勤日とし、年末年始やお盆などにまとめて休日を設けている。部品メーカーなどもそれに準じ、稼働日や休日を決めてきた。\n",
      "\n",
      "　だが近年は、新たな祝日ができても代わりの休みを設けていなかったため、休日数が少なくなっている。休みが少ないのは人材獲得面で不利で、「採用活動でも驚かれてしまう」（総連関係者）。人手不足の一層の深刻化も懸念される中、傘下労組から見直しを求める声が上がっていた。\n",
      "\n",
      "　そこで総連は、年間16日ある祝日のうち、土日と合わせ3連休となる「成人の日」「敬老の日」などを休みにするよう求める方針だ。休日増を要求するのは121日が主流になった1995年以降初めて。傘下の主要労組は2月12日までに要求をまとめ、経営側に提出する予定だ。\n",
      "\n",
      "　とはいえ、休日が増えれば稼働を止めた分の生産性向上が課題になる。経営側は早速、「既にあらゆる効率化をやってきた。これ以上は難しいのでは」（大手メーカー幹部）とけん制しており、どこまで休みを増やせるかは不透明だ。　\n"
     ]
    }
   ],
   "source": [
    "import requests\n",
    "from bs4 import BeautifulSoup\n",
    "\n",
    "# ウェブページのHTMLを取得\n",
    "url = \"https://news.yahoo.co.jp/articles/565ee76c0c4dda9e24d4c36f3122d31f0e8311df\"\n",
    "response = requests.get(url)\n",
    "\n",
    "# BeautifulSoupで解析\n",
    "soup = BeautifulSoup(response.content, 'html.parser')\n",
    "\n",
    "sentences = soup.select('#uamods > .article_body > div > p')\n",
    "# 各<p>タグのテキストを結合して1つの文字列にする\n",
    "article_text = ''.join([sentence.text for sentence in sentences])\n",
    "\n",
    "print(article_text)\n"
   ]
  }
 ],
 "metadata": {
  "kernelspec": {
   "display_name": "Python 3",
   "language": "python",
   "name": "python3"
  },
  "language_info": {
   "codemirror_mode": {
    "name": "ipython",
    "version": 3
   },
   "file_extension": ".py",
   "mimetype": "text/x-python",
   "name": "python",
   "nbconvert_exporter": "python",
   "pygments_lexer": "ipython3",
   "version": "3.13.1"
  }
 },
 "nbformat": 4,
 "nbformat_minor": 2
}
